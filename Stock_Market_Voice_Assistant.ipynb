{
 "cells": [
  {
   "cell_type": "markdown",
   "metadata": {},
   "source": [
    "#### Imports"
   ]
  },
  {
   "cell_type": "code",
   "execution_count": 1,
   "metadata": {},
   "outputs": [],
   "source": [
    "import speech_recognition as sr \n",
    "from gtts import gTTS\n",
    "import playsound \n",
    "import yfinance as yf \n",
    "import os "
   ]
  },
  {
   "cell_type": "markdown",
   "metadata": {},
   "source": [
    "#### Code Building"
   ]
  },
  {
   "cell_type": "code",
   "execution_count": 24,
   "metadata": {},
   "outputs": [
    {
     "name": "stdout",
     "output_type": "stream",
     "text": [
      "i need to know the stock information about google\n",
      "2953.59\n",
      "thank you what about the amazon share\n",
      "3502.83\n",
      "thank you very much finally i need the netflix information\n",
      "659.5\n",
      "ok thank you very much you help me a lot and that's it for now\n"
     ]
    }
   ],
   "source": [
    "# speech to text\n",
    "def jennifer_listen():\n",
    "    # create recognizer\n",
    "    r = sr.Recognizer()\n",
    "    \n",
    "    with sr.Microphone() as source:\n",
    "        # use listen function so the recgonizer can catch the source (our microphone)\n",
    "        audio = r.listen(source) \n",
    "        text = r.recognize_google(audio)\n",
    "        \n",
    "    text = text.lower()\n",
    "    return text\n",
    "\n",
    "# text to speech\n",
    "def jennifer_talk(text):\n",
    "    # create audio data\n",
    "    file_name = 'audio_data.mp3'\n",
    "    # convert text to speech\n",
    "    tts = gTTS(text = text, lang='en')\n",
    "    # save file\n",
    "    tts.save(file_name)\n",
    "    # play file\n",
    "    playsound.playsound(file_name)\n",
    "    # remove the file\n",
    "    os.remove(file_name)\n",
    "    \n",
    "# create a function which will give us back a reply based on our query\n",
    "def jennifer_reply(query):\n",
    "    \n",
    "    if 'netflix' in query:\n",
    "        netflix = yf.Ticker('NFLX')\n",
    "        netflix_price = netflix.info['regularMarketPrice']\n",
    "        print(netflix_price)\n",
    "        jennifer_talk('You can buy a Netflix Share for ' + str(netflix_price) + ' US Dollars')\n",
    "    \n",
    "    elif 'amazon' in query:\n",
    "        amazon = yf.Ticker('AMZN')\n",
    "        amazon_price = amazon.info['regularMarketPrice']\n",
    "        print(amazon_price)\n",
    "        jennifer_talk('You can buy an Amazon Share for ' + str(amazon_price) + ' US Dollars')\n",
    "    \n",
    "    elif 'google' in query:\n",
    "        google = yf.Ticker('GOOG')\n",
    "        google_price = google.info['regularMarketPrice']\n",
    "        print(google_price)\n",
    "        jennifer_talk('You can buy a Google Share for ' + str(google_price) + ' US Dollars')\n",
    "    \n",
    "    elif \"that's it\" in query:\n",
    "        jennifer_talk('It was a pleasure to answer your questions. I wish you a great day!')\n",
    "    \n",
    "    else:\n",
    "        jennifer_talk('Sorry, I do not have an answer for that. Please try again.')\n",
    "    \n",
    "\n",
    "# execute   \n",
    "def execute_assistant():\n",
    "    # personal approach\n",
    "    jennifer_talk('Hi, I am Jennifer, your personal Stock Market Consultant. Can you tell me your name?')\n",
    "    listen_name = jennifer_listen()\n",
    "    jennifer_talk('Hi ' + listen_name + ' what can I do for you')\n",
    "    \n",
    "    while True:\n",
    "        listen_assistant = jennifer_listen()\n",
    "        print(listen_assistant)\n",
    "        jennifer_reply(listen_assistant)\n",
    "        \n",
    "        if \"that's it\" in listen_assistant:\n",
    "            break\n",
    "            \n",
    "# call function           \n",
    "execute_assistant()    "
   ]
  }
 ],
 "metadata": {
  "kernelspec": {
   "display_name": "Python 3",
   "language": "python",
   "name": "python3"
  },
  "language_info": {
   "codemirror_mode": {
    "name": "ipython",
    "version": 3
   },
   "file_extension": ".py",
   "mimetype": "text/x-python",
   "name": "python",
   "nbconvert_exporter": "python",
   "pygments_lexer": "ipython3",
   "version": "3.9.2"
  }
 },
 "nbformat": 4,
 "nbformat_minor": 4
}
